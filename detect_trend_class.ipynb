{
 "cells": [
  {
   "cell_type": "code",
   "execution_count": 1,
   "metadata": {
    "collapsed": false
   },
   "outputs": [],
   "source": [
    "import poloniex\n",
    "import time\n",
    "import datetime\n",
    "import numpy as np\n",
    "import matplotlib.pyplot as plt\n",
    "import matplotlib.dates as mdates\n",
    "import pandas as pd\n",
    "import numpy as np\n",
    "from collections import defaultdict\n",
    "import functools\n",
    "import sys\n",
    "%matplotlib inline"
   ]
  },
  {
   "cell_type": "code",
   "execution_count": 2,
   "metadata": {
    "collapsed": true
   },
   "outputs": [],
   "source": [
    "def coroutine(function):\n",
    "    @functools.wraps(function)\n",
    "    def wrapper(*args,**kwargs):\n",
    "        generator = function(*args, **kwargs)\n",
    "        next(generator)\n",
    "        return generator\n",
    "    return wrapper"
   ]
  },
  {
   "cell_type": "code",
   "execution_count": 3,
   "metadata": {
    "collapsed": true
   },
   "outputs": [],
   "source": [
    "def plot(data, lines):\n",
    "    fig = plt.figure(figsize=(8,3))\n",
    "    ax = fig.add_subplot(1,1,1)\n",
    "    ax.plot(data.df.ix[:,0],data.df.ix[:,1], color=\"b\")\n",
    "    for line in lines:\n",
    "        l = line[\"l\"]\n",
    "        xp = line[\"xp\"]\n",
    "        plt.plot(xp,l(xp),\"r\",label=\"trend\")\n",
    "#                 ax.plot(self.buys.ix[:,0],self.buys.ix[:,1],\"o\", color=\"red\",label=\"buy\")\n",
    "#                 ax.plot(self.sells.ix[:,0],self.sells.ix[:,1],\"D\",color=\"green\", label=\"sell\")\n",
    "    plt.grid(True)\n",
    "    plt.xlim([data.df[0].min(),data.df[0].max()])\n",
    "    start = mdates.num2date(data.df[0][0]).strftime(\"%m/%d(%H:00)\")\n",
    "    end   = mdates.num2date(data.df[0][len(data.df) - 1]).strftime(\"%m/%d(%H:00)\")\n",
    "    title = start + \" - \" + end\n",
    "    plt.title(title)\n",
    "    ax.xaxis.set_major_formatter(mdates.DateFormatter('%m/%d(%H:00)'))"
   ]
  },
  {
   "cell_type": "code",
   "execution_count": 4,
   "metadata": {
    "collapsed": true
   },
   "outputs": [],
   "source": [
    "class Data:\n",
    "    \n",
    "    def get(self,period=300, start=1, end=0):\n",
    "        start_day = (datetime.datetime.today() - datetime.timedelta(days=start))\n",
    "        end_day   = (datetime.datetime.today() - datetime.timedelta(days=end))\n",
    "        self.start_unix = time.mktime(start_day.timetuple())\n",
    "        self.end_unix   = time.mktime(end_day.timetuple())\n",
    "\n",
    "        polo = poloniex.Poloniex()\n",
    "        polo.timeout = 2\n",
    "        chartUSDT_BTC = polo.returnChartData('USDT_BTC', period=period, start=self.start_unix, end=self.end_unix)\n",
    "        tmpDate = [chartUSDT_BTC[i]['date'] for i in range(len(chartUSDT_BTC))]\n",
    "        date = [datetime.datetime.fromtimestamp(tmpDate[i]) for i in range(len(tmpDate))]\n",
    "        date = mdates.date2num(date)\n",
    "        data = [float(chartUSDT_BTC[i]['open']) for i in range(len(chartUSDT_BTC))]\n",
    "        self.df = pd.DataFrame([date,data]).T\n",
    "\n",
    "\n"
   ]
  },
  {
   "cell_type": "code",
   "execution_count": 5,
   "metadata": {
    "collapsed": true
   },
   "outputs": [],
   "source": [
    "class Trend:\n",
    "    \n",
    "    ACTIVE, BREAKED = \"ACTIVE\", \"BREAKED\"\n",
    "#     UP,     DOWN = \"UP\",     \"DOWN\"\n",
    "    \n",
    "    def __init__(self):\n",
    "        self.state      = Trend.BREAKED\n",
    "#         self.direction    = Trend.UP\n",
    "        self.__last_high  = sys.maxsize\n",
    "        self.__last_low   = sys.maxsize\n",
    "        self.count        = 0\n",
    "    \n",
    "    @property\n",
    "    def last_high(self):\n",
    "        return self.__last_high\n",
    "    \n",
    "    @last_high.setter\n",
    "    def last_high(self, value):\n",
    "        if self.__last_high < value:\n",
    "            self.count += 1\n",
    "        else:\n",
    "            self.reset()\n",
    "        self.__last_high = value\n",
    "    \n",
    "    @property\n",
    "    def last_low(self):\n",
    "        return self.__last_low\n",
    "    \n",
    "    @last_low.setter\n",
    "    def last_low(self, value):\n",
    "        if self.__last_low < value:\n",
    "            self.count += 1\n",
    "        else:\n",
    "            self.reset()\n",
    "        self.__last_low = value\n",
    "    \n",
    "    def reset(self):\n",
    "        self.count = 0\n",
    "        "
   ]
  },
  {
   "cell_type": "code",
   "execution_count": 6,
   "metadata": {
    "collapsed": true
   },
   "outputs": [],
   "source": [
    "class Line:\n",
    "    \n",
    "    def __init__(self):\n",
    "        self.start = self.end = self.line = None\n",
    "    \n",
    "    \n",
    "    def set_start(self, data):\n",
    "        self.start = data\n",
    "        \n",
    "    \n",
    "    def set_end(self, data):\n",
    "        self.end = data\n",
    "        self.__make_line()\n",
    "    \n",
    "    def __make_line(self):\n",
    "        x = [self.start[\"date\"],self.end[\"date\"]]\n",
    "        y = [self.start[\"price\"],self.end[\"price\"]]\n",
    "        z = np.polyfit(x,y,1)\n",
    "        l = np.poly1d(z)\n",
    "        xp = np.linspace(x[0],x[1])\n",
    "        pair = {\"xp\":xp,\"l\":l}\n",
    "        self.line = pair\n",
    "    \n",
    "    def expand_line(self, end_date):\n",
    "        xp = np.linspace(self.start[\"date\"],end_date)\n",
    "        self.line[\"xp\"] = xp\n",
    "    "
   ]
  },
  {
   "cell_type": "code",
   "execution_count": 7,
   "metadata": {
    "collapsed": false
   },
   "outputs": [],
   "source": [
    "class Singular:\n",
    "    \n",
    "    INCREASE, DECREASE = \"INCREASE\", \"DECREASE\"\n",
    "    \n",
    "    def __init__(self):\n",
    "        self.direction   = Singular.INCREASE\n",
    "        self.last_price  = 0\n",
    "        self.__last_data = None\n",
    "        self.isSingular  = False\n",
    "    \n",
    "    @property\n",
    "    def last_data(self):\n",
    "        return self.__last_data\n",
    "    \n",
    "    @last_data.setter\n",
    "    def last_data(self, data):\n",
    "        value = data[\"price\"]\n",
    "        if self.direction == Singular.INCREASE and self.last_price > value:\n",
    "            self.direction = Singular.DECREASE\n",
    "            self.isSingular = True\n",
    "        elif self.direction == Singular.DECREASE and self.last_price < value:\n",
    "            self.direction = Singular.INCREASE\n",
    "            self.isSingular = True\n",
    "        else:\n",
    "            self.isSingular = False\n",
    "        self.__last_data = data\n",
    "        self.last_price = value\n",
    "        \n",
    "        "
   ]
  },
  {
   "cell_type": "code",
   "execution_count": 8,
   "metadata": {
    "collapsed": false
   },
   "outputs": [],
   "source": [
    "class Contoller:\n",
    "    \n",
    "    def __init__(self):\n",
    "        self.singular    = Singular()\n",
    "        self.minor_trend = Trend()\n",
    "        self.midle_trend = Trend()\n",
    "        self.minor_lines = []\n",
    "        self.medle_lines = []\n",
    "        self.minor_line  = None\n",
    "        self.midle_line  = None\n",
    "        self.pipeline = self.breake_check(\n",
    "                        self.singular_check(\n",
    "                        self.minor_trend_check()))\n",
    "        \n",
    "    @coroutine\n",
    "    def breake_check(self, successor=None):\n",
    "        while True:\n",
    "            data = (yield)\n",
    "            if self.minor_trend.state == Trend.ACTIVE:\n",
    "                l = self.minor_line.line[\"l\"]\n",
    "                xp= self.minor_line.line[\"xp\"]\n",
    "                if l(data[\"date\"]) > data[\"price\"] :\n",
    "                    self.minor_line.expand_line(data[\"date\"])\n",
    "                    self.minor_lines.append(self.minor_line.line)\n",
    "                    self.minor_trend.state = Trend.BREAKED\n",
    "            successor.send(data)\n",
    "    \n",
    "    @coroutine\n",
    "    def singular_check(self, successor=None):\n",
    "        while True:\n",
    "            data = (yield)\n",
    "            last_data = self.singular.last_data\n",
    "            self.singular.last_data = data\n",
    "            if self.singular.isSingular:\n",
    "                successor.send(last_data)\n",
    "    \n",
    "    @coroutine\n",
    "    def minor_trend_check(self, successor=None):\n",
    "        while True:\n",
    "            data = (yield)\n",
    "            if self.minor_trend.state == Trend.BREAKED:\n",
    "                if self.singular.direction == Singular.DECREASE:\n",
    "                    self.minor_trend.last_high = data[\"price\"]\n",
    "                elif self.singular.direction == Singular.INCREASE:\n",
    "                    self.minor_trend.last_low = data[\"price\"]\n",
    "                    count = self.minor_trend.count\n",
    "                    if self.minor_trend.count == 1 or self.minor_trend.count == 2:\n",
    "                        self.minor_line = Line()\n",
    "                        self.minor_line.set_start(data)\n",
    "                    elif self.minor_trend.count == 5 or self.minor_trend.count == 6:\n",
    "                        self.minor_line.set_end(data)\n",
    "                        self.minor_trend.state = Trend.ACTIVE\n",
    "                        self.minor_trend.reset()\n",
    "            \n",
    "            \n",
    "            "
   ]
  },
  {
   "cell_type": "code",
   "execution_count": 9,
   "metadata": {
    "collapsed": false
   },
   "outputs": [
    {
     "data": {
      "image/png": "[encoded data removed]",
      "text/plain": [
       "<matplotlib.figure.Figure at 0x10a50ffd0>"
      ]
     },
     "metadata": {},
     "output_type": "display_data"
    }
   ],
   "source": [
    "controller = Contoller()\n",
    "data = Data()\n",
    "data.get(900,7,1)\n",
    "for d in data.df.iterrows():\n",
    "    row = {\"date\":d[1][0],\"price\":d[1][1]}\n",
    "    controller.pipeline.send(row)\n",
    "lines = controller.minor_lines\n",
    "plot(data,lines)"
   ]
  },
  {
   "cell_type": "code",
   "execution_count": null,
   "metadata": {
    "collapsed": true
   },
   "outputs": [],
   "source": []
  },
  {
   "cell_type": "code",
   "execution_count": null,
   "metadata": {
    "collapsed": true
   },
   "outputs": [],
   "source": []
  }
 ],
 "metadata": {
  "kernelspec": {
   "display_name": "Python 3",
   "language": "python",
   "name": "python3"
  },
  "language_info": {
   "codemirror_mode": {
    "name": "ipython",
    "version": 3
   },
   "file_extension": ".py",
   "mimetype": "text/x-python",
   "name": "python",
   "nbconvert_exporter": "python",
   "pygments_lexer": "ipython3",
   "version": "3.5.2"
  }
 },
 "nbformat": 4,
 "nbformat_minor": 2
}
